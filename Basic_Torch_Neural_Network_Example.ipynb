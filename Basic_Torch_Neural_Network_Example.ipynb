{
  "nbformat": 4,
  "nbformat_minor": 0,
  "metadata": {
    "colab": {
      "provenance": [],
      "authorship_tag": "ABX9TyMY8P45UVW8PatUe6W0fMM1",
      "include_colab_link": true
    },
    "kernelspec": {
      "name": "python3",
      "display_name": "Python 3"
    },
    "language_info": {
      "name": "python"
    }
  },
  "cells": [
    {
      "cell_type": "markdown",
      "metadata": {
        "id": "view-in-github",
        "colab_type": "text"
      },
      "source": [
        "<a href=\"https://colab.research.google.com/github/xkabot/ForecastingMethods/blob/main/Basic_Torch_Neural_Network_Example.ipynb\" target=\"_parent\"><img src=\"https://colab.research.google.com/assets/colab-badge.svg\" alt=\"Open In Colab\"/></a>"
      ]
    },
    {
      "cell_type": "code",
      "execution_count": 14,
      "metadata": {
        "id": "fF8RM3p09wUq"
      },
      "outputs": [],
      "source": [
        "import torch\n",
        "import torch.nn as nn\n",
        "import torch.optim as optim\n",
        "import torch.nn.functional as F\n",
        "from torch.utils.data import DataLoader\n",
        "import torchvision.datasets as datasets\n",
        "import torchvision.transforms as transforms"
      ]
    },
    {
      "cell_type": "markdown",
      "source": [
        "Creates a connected network defining the model"
      ],
      "metadata": {
        "id": "fEzSoJ1f_aCE"
      }
    },
    {
      "cell_type": "code",
      "source": [
        "class NN(nn.Module):\n",
        "  def __init__(self, input_size, num_classes):\n",
        "    super(NN, self).__init__()\n",
        "    self.fc1 = nn.Linear(input_size, 50)\n",
        "    self.fc2 = nn.Linear(50, num_classes)\n",
        "\n",
        "  def forward(self, x):\n",
        "    x = F.relu(self.fc1(x))\n",
        "    x = self.fc2(x)\n",
        "    return x\n",
        "\n",
        "model = NN(784, 10)\n",
        "x = torch.randn(64, 784) # mini batch size\n",
        "print(model(x).shape)"
      ],
      "metadata": {
        "colab": {
          "base_uri": "https://localhost:8080/"
        },
        "id": "Uk11J3r698F7",
        "outputId": "c0323e34-fa23-4590-afc1-133eb8185fa4"
      },
      "execution_count": 10,
      "outputs": [
        {
          "output_type": "stream",
          "name": "stdout",
          "text": [
            "torch.Size([64, 10])\n"
          ]
        }
      ]
    },
    {
      "cell_type": "markdown",
      "source": [
        "Set the device"
      ],
      "metadata": {
        "id": "JwYQjI1l_dyk"
      }
    },
    {
      "cell_type": "code",
      "source": [
        "device = torch.device('cude' if torch.cuda.is_available() else 'cpu')"
      ],
      "metadata": {
        "id": "DeX1toRo_fUs"
      },
      "execution_count": 11,
      "outputs": []
    },
    {
      "cell_type": "markdown",
      "source": [
        "Set the hyperparams"
      ],
      "metadata": {
        "id": "-W0KZzME_n6t"
      }
    },
    {
      "cell_type": "code",
      "source": [
        "input_size = 784\n",
        "num_classes = 10\n",
        "learning_rate = .001\n",
        "batch_size = 64\n",
        "num_epochs = 1"
      ],
      "metadata": {
        "id": "7kEmav52_nNA"
      },
      "execution_count": 12,
      "outputs": []
    },
    {
      "cell_type": "markdown",
      "source": [
        "Get the datasets"
      ],
      "metadata": {
        "id": "lrItB206AoQC"
      }
    },
    {
      "cell_type": "code",
      "source": [
        "train_Dataset = datasets.MNIST(root='dataset/', train=True, transform=transforms.ToTensor(), download=True)\n",
        "train_loader = DataLoader(dataset=train_Dataset, batch_size=batch_size, shuffle=True)\n",
        "\n",
        "test_Dataset = datasets.MNIST(root='dataset/', train=True, transform=transforms.ToTensor(), download=True)\n",
        "test_loader = DataLoader(dataset=test_Dataset, batch_size=batch_size, shuffle=True)\n"
      ],
      "metadata": {
        "id": "_ibWh-7N_ySQ"
      },
      "execution_count": 17,
      "outputs": []
    },
    {
      "cell_type": "markdown",
      "source": [
        "Init networks"
      ],
      "metadata": {
        "id": "h-1OI-0LApx6"
      }
    },
    {
      "cell_type": "code",
      "source": [
        "model = NN(input_size=input_size, num_classes=num_classes).to(device)"
      ],
      "metadata": {
        "id": "UJWnvS7HAdnP"
      },
      "execution_count": 18,
      "outputs": []
    },
    {
      "cell_type": "markdown",
      "source": [
        "Initialize network"
      ],
      "metadata": {
        "id": "YcCiRajjAt0I"
      }
    },
    {
      "cell_type": "code",
      "source": [
        "criterion = nn.CrossEntropyLoss()\n",
        "optimizer = optim.Adam(model.parameters(), lr=learning_rate)"
      ],
      "metadata": {
        "id": "xiNg3N6SAmjd"
      },
      "execution_count": 19,
      "outputs": []
    },
    {
      "cell_type": "markdown",
      "source": [
        "Train network"
      ],
      "metadata": {
        "id": "PQmaq61NA9zb"
      }
    },
    {
      "cell_type": "code",
      "source": [
        "for epoch in range(num_epochs):\n",
        "  for batch_idx, (data, targets) in enumerate(train_loader):\n",
        "    # Get data to cuda if possible\n",
        "    data = data.to(device=device) # 64 samples, 1 input, 28 pixels, 28 pixels\n",
        "    targets = targets.to(device=device)\n",
        "\n",
        "    # Get to correct shape\n",
        "    data = data.reshape(data.shape[0], -1) # flattens into single dimension\n",
        "\n",
        "    # forward\n",
        "    scores = model(data)\n",
        "    loss = criterion(scores, targets)\n",
        "\n",
        "    # backward\n",
        "    optimizer.zero_grad()\n",
        "    loss.backward()\n",
        "\n",
        "    # gradient descent or adam step\n",
        "    optimizer.step()"
      ],
      "metadata": {
        "id": "9Qo0ltogA7cu"
      },
      "execution_count": 23,
      "outputs": []
    },
    {
      "cell_type": "markdown",
      "source": [
        "check accuracy"
      ],
      "metadata": {
        "id": "zRQb0cQzN1eP"
      }
    },
    {
      "cell_type": "code",
      "source": [
        "def check_accuracy(loader, model):\n",
        "  if loader.dataset.train:\n",
        "    print(\"Checking accuracy of training data\")\n",
        "  else:\n",
        "    print(\"Checking accuracy of test data\")\n",
        "\n",
        "  num_correct = 0\n",
        "  num_samples = 0\n",
        "  model.eval()\n",
        "\n",
        "  with torch.no_grad():\n",
        "    for x, y in loader:\n",
        "      x = x.to(device=device)\n",
        "      y = y.to(device=device)\n",
        "      x = x.reshape(x.shape[0], -1)\n",
        "\n",
        "      scores = model(x)\n",
        "      _, predictions = scores.max(1)\n",
        "      num_correct += (predictions == y).sum()\n",
        "      num_samples += predictions.size(0)\n",
        "\n",
        "    print(f'Got {num_correct} / {num_samples} with accuracy {float(num_correct)/float(num_samples)*100}')\n",
        "\n",
        "  # after checking accuracy return to training\n",
        "  model.train()\n",
        "\n",
        "check_accuracy(train_loader, model)\n",
        "check_accuracy(test_loader, model )"
      ],
      "metadata": {
        "colab": {
          "base_uri": "https://localhost:8080/"
        },
        "id": "t1v2hTImCNWt",
        "outputId": "bfe82f76-0366-4f3f-e80f-bfe2fb826ed9"
      },
      "execution_count": 26,
      "outputs": [
        {
          "output_type": "stream",
          "name": "stdout",
          "text": [
            "Checking accuracy of training data\n",
            "Got 55875 / 60000 with accuracy 93.125\n",
            "Checking accuracy of training data\n",
            "Got 55875 / 60000 with accuracy 93.125\n"
          ]
        }
      ]
    }
  ]
}