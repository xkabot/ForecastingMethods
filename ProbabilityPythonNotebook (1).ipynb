{
  "cells": [
    {
      "cell_type": "markdown",
      "id": "d435ac15",
      "metadata": {
        "id": "d435ac15"
      },
      "source": [
        "# Introduction to Basic Probability using Python\n",
        "\n",
        "Table of Contents:\n",
        "\n",
        "Introduction to Probability\n",
        "\n",
        "Overview\n",
        "Sample Space\n",
        "Events\n",
        "Probability of an Event\n",
        "Simulating Probability with Python\n",
        "\n",
        "Generating Random Numbers\n",
        "Simulating Coin Flips\n",
        "Simulating Dice Rolls\n",
        "Probability Calculations with Python\n",
        "\n",
        "Calculating Probabilities\n",
        "Probability of Multiple Events\n",
        "Conditional Probability\n",
        "Programming Exercises\n",
        "\n",
        "Exercise 1: Coin Toss Simulation\n",
        "Exercise 2: Dice Roll Simulation\n",
        "Exercise 3: Card Drawing Probability\n",
        "Exercise 4: Probability of Drawing a Red Card\n",
        "\n",
        "1. Introduction to Probability\n",
        "\n",
        "Overview:\n",
        "\n",
        "Probability is a branch of mathematics that deals with uncertainty. It allows us to quantify the likelihood of events occurring and make informed decisions based on that information. In this section, we will cover some fundamental concepts in probability.\n",
        "\n",
        "Sample Space:\n",
        "\n",
        "The sample space is the set of all possible outcomes of an experiment. For example, when flipping a coin, the sample space consists of two outcomes: \"heads\" and \"tails.\"\n",
        "\n",
        "Events:\n",
        "\n",
        "An event is a subset of the sample space. It represents a specific outcome or a collection of outcomes. For example, in the coin-flipping experiment, the event \"heads\" represents the outcome of getting a heads.\n",
        "\n",
        "Probability of an Event:\n",
        "\n",
        "The probability of an event is a measure of how likely it is to occur. It ranges from 0 (impossible) to 1 (certain). The probability of an event A is denoted as P(A).\n",
        "\n",
        "2. Simulating Probability with Python\n",
        "\n",
        "Generating Random Numbers:\n",
        "\n",
        "Python provides various ways to generate random numbers. We can use the random module to simulate probability experiments."
      ]
    },
    {
      "cell_type": "code",
      "execution_count": 2,
      "id": "a5b81ae9",
      "metadata": {
        "colab": {
          "base_uri": "https://localhost:8080/"
        },
        "id": "a5b81ae9",
        "outputId": "35a8cf83-e950-41c9-d6ce-dff96bdf1f1c"
      },
      "outputs": [
        {
          "output_type": "stream",
          "name": "stdout",
          "text": [
            "0.21379344222178176\n"
          ]
        }
      ],
      "source": [
        "import random\n",
        "\n",
        "# Generate a random number between 0 and 1\n",
        "\n",
        "random_number = random.random()\n",
        "print(random_number)\n"
      ]
    },
    {
      "cell_type": "markdown",
      "id": "54d1bb18",
      "metadata": {
        "id": "54d1bb18"
      },
      "source": [
        "# Simulating Coin Flips:\n",
        "\n",
        "Let's simulate a coin-flipping experiment using Python. We can use the random.choice() function to randomly select an outcome from a given set of options."
      ]
    },
    {
      "cell_type": "code",
      "execution_count": 3,
      "id": "02316d7b",
      "metadata": {
        "colab": {
          "base_uri": "https://localhost:8080/"
        },
        "id": "02316d7b",
        "outputId": "6f400d98-9a97-4c1a-fe8e-a43538d14617"
      },
      "outputs": [
        {
          "output_type": "stream",
          "name": "stdout",
          "text": [
            "tails\n"
          ]
        }
      ],
      "source": [
        "import random\n",
        "\n",
        "outcomes = ['heads', 'tails']\n",
        "\n",
        "# Simulate a single coin flip\n",
        "\n",
        "coin_flip = random.choice(outcomes)\n",
        "print(coin_flip)\n"
      ]
    },
    {
      "cell_type": "markdown",
      "id": "a691e3cb",
      "metadata": {
        "id": "a691e3cb"
      },
      "source": [
        "# Simulating Dice Rolls:\n",
        "\n",
        "Similarly, we can simulate dice rolls using Python. By generating random numbers between 1 and 6, we can represent the outcomes of rolling a six-sided die."
      ]
    },
    {
      "cell_type": "code",
      "execution_count": 4,
      "id": "b409b4e8",
      "metadata": {
        "colab": {
          "base_uri": "https://localhost:8080/"
        },
        "id": "b409b4e8",
        "outputId": "340c5c1d-4ec1-49e1-8d81-69926672bb64"
      },
      "outputs": [
        {
          "output_type": "stream",
          "name": "stdout",
          "text": [
            "4\n"
          ]
        }
      ],
      "source": [
        "import random\n",
        "\n",
        "# Simulate rolling a six-sided die\n",
        "\n",
        "dice_roll = random.randint(1, 6)\n",
        "print(dice_roll)\n"
      ]
    },
    {
      "cell_type": "markdown",
      "id": "a84fd069",
      "metadata": {
        "id": "a84fd069"
      },
      "source": [
        "# Probability Calculations with Python\n",
        "\n",
        "Calculating Probabilities:\n",
        "\n",
        "In addition to simulation, Python allows us to calculate probabilities directly. We can define probability functions to calculate the likelihood of specific events.\n",
        "\n",
        "Probability of Multiple Events:\n",
        "\n",
        "When dealing with multiple events, we need to consider the probabilities of each event individually and in combination. We can use mathematical formulas to calculate the probabilities of compound events.\n",
        "\n",
        "Conditional Probability:\n",
        "\n",
        "Conditional probability is the probability of an event given that another event has occurred. We can calculate conditional probabilities using the formula P(A|B) = P(A ∩ B) / P(B)."
      ]
    },
    {
      "cell_type": "code",
      "execution_count": 5,
      "id": "70a393db",
      "metadata": {
        "colab": {
          "base_uri": "https://localhost:8080/"
        },
        "id": "70a393db",
        "outputId": "54f6656f-10ea-4b95-fa14-477637b83c43"
      },
      "outputs": [
        {
          "output_type": "stream",
          "name": "stdout",
          "text": [
            "Probability of getting heads: 0.55\n",
            "Probability of getting tails: 0.45\n"
          ]
        }
      ],
      "source": [
        "import random\n",
        "\n",
        "def coin_toss_simulation(num_tosses):\n",
        "    outcomes = ['heads', 'tails']\n",
        "    heads_count = 0\n",
        "    tails_count = 0\n",
        "\n",
        "    for _ in range(num_tosses):\n",
        "        # Simulate a coin flip and update the counts\n",
        "        coin_flip = random.choice(outcomes)\n",
        "        if coin_flip == 'heads':\n",
        "            heads_count += 1\n",
        "        else:\n",
        "            tails_count += 1\n",
        "\n",
        "    probability_heads = heads_count / num_tosses\n",
        "    probability_tails = tails_count / num_tosses\n",
        "\n",
        "    return probability_heads, probability_tails\n",
        "\n",
        "num_tosses = 100\n",
        "probability_heads, probability_tails = coin_toss_simulation(num_tosses)\n",
        "print(\"Probability of getting heads:\", probability_heads)\n",
        "print(\"Probability of getting tails:\", probability_tails)\n"
      ]
    },
    {
      "cell_type": "markdown",
      "id": "9d26365b",
      "metadata": {
        "id": "9d26365b"
      },
      "source": [
        "# Exercise 1: Flipping a Weighted Coin\n",
        "\n",
        "Modify the above code block to simulate the repeated flipping of a biased coin with a probability $p$ of landing on heads."
      ]
    },
    {
      "cell_type": "code",
      "execution_count": 6,
      "id": "47dc7ede",
      "metadata": {
        "colab": {
          "base_uri": "https://localhost:8080/"
        },
        "id": "47dc7ede",
        "outputId": "cbbdc8c2-b18c-4316-c02d-aaa43dcb2588"
      },
      "outputs": [
        {
          "output_type": "stream",
          "name": "stdout",
          "text": [
            "Probability of getting heads: 0.71\n",
            "Probability of getting tails: 0.29\n"
          ]
        }
      ],
      "source": [
        "# Hint: Generate a random number between 0 and 1, calling the result heads if it lies between 0 and p\n",
        "\n",
        "def coin_toss_simulation(num_tosses, p):\n",
        "    # p is the probability of getting heads where p is an int representing a percentage i.e. 70 = 70% = .7\n",
        "    head_count = 0\n",
        "    tail_count = 0\n",
        "\n",
        "    for _ in range(num_tosses):\n",
        "      random_number = random.randint(1,100)\n",
        "      if random_number < p:\n",
        "        head_count += 1\n",
        "      else:\n",
        "        tail_count += 1\n",
        "\n",
        "    probability_heads = head_count / num_tosses\n",
        "    probability_tails = tail_count / num_tosses\n",
        "\n",
        "    return probability_heads, probability_tails\n",
        "\n",
        "num_tosses = 100\n",
        "p = 70\n",
        "probability_heads, probability_tails = coin_toss_simulation(num_tosses, p)\n",
        "print(\"Probability of getting heads:\", probability_heads)\n",
        "print(\"Probability of getting tails:\", probability_tails)\n"
      ]
    },
    {
      "cell_type": "markdown",
      "id": "1065e0f9",
      "metadata": {
        "id": "1065e0f9"
      },
      "source": [
        "# Exercise 2: Dice Roll Simulation\n",
        "\n",
        "Write a Python program to simulate rolling two dice 500 times and calculate the probability of getting a sum of 7."
      ]
    },
    {
      "cell_type": "code",
      "execution_count": 7,
      "id": "12fe575b",
      "metadata": {
        "colab": {
          "base_uri": "https://localhost:8080/"
        },
        "id": "12fe575b",
        "outputId": "1d75de80-e717-44d4-8ead-2e622307a168"
      },
      "outputs": [
        {
          "output_type": "stream",
          "name": "stdout",
          "text": [
            "Probability of getting a sum of 7: 0.164\n"
          ]
        }
      ],
      "source": [
        "import random\n",
        "\n",
        "def dice_roll_simulation(num_rolls):\n",
        "    sum_7_count = 0\n",
        "\n",
        "    for _ in range(num_rolls):\n",
        "        # Simulate rolling two dice and update the count if the sum is 7\n",
        "        dice1 = random.randint(1, 6)\n",
        "        dice2 = random.randint(1, 6)\n",
        "        if dice1 + dice2 == 7:\n",
        "            sum_7_count += 1\n",
        "\n",
        "    probability_sum_7 = sum_7_count / num_rolls\n",
        "\n",
        "    return probability_sum_7\n",
        "\n",
        "num_rolls = 500\n",
        "probability_sum_7 = dice_roll_simulation(num_rolls)\n",
        "print(\"Probability of getting a sum of 7:\", probability_sum_7)\n"
      ]
    },
    {
      "cell_type": "markdown",
      "id": "f9a52565",
      "metadata": {
        "id": "f9a52565"
      },
      "source": [
        "# Exercise 3: Card Drawing Probability\n",
        "\n",
        "Write a Python program to simulate drawing a card from a standard deck of 52 cards. Calculate the probability of drawing an Ace or a King."
      ]
    },
    {
      "cell_type": "code",
      "execution_count": 8,
      "id": "babbf1da",
      "metadata": {
        "colab": {
          "base_uri": "https://localhost:8080/"
        },
        "id": "babbf1da",
        "outputId": "ebd5ee05-64fe-4dff-cf5f-9bcf72dabe3d"
      },
      "outputs": [
        {
          "output_type": "stream",
          "name": "stdout",
          "text": [
            "Probability of drawing an Ace or a King: 0.15384615384615385\n"
          ]
        }
      ],
      "source": [
        "import random\n",
        "\n",
        "def card_drawing_probability():\n",
        "    deck = ['Ace', '2', '3', '4', '5', '6', '7', '8', '9', '10', 'Jack', 'Queen', 'King']\n",
        "    suits = ['Hearts', 'Diamonds', 'Clubs', 'Spades']\n",
        "\n",
        "    ace_or_king_count = 0\n",
        "    total_cards = 0\n",
        "\n",
        "    for suit in suits:\n",
        "        for card in deck:\n",
        "            total_cards += 1\n",
        "            if card == deck[0]:\n",
        "              ace_or_king_count += 1\n",
        "            elif card == deck[-1]:\n",
        "              ace_or_king_count += 1\n",
        "\n",
        "\n",
        "    probability_ace_or_king = ace_or_king_count / total_cards\n",
        "\n",
        "    return probability_ace_or_king\n",
        "\n",
        "probability_ace_or_king = card_drawing_probability()\n",
        "print(\"Probability of drawing an Ace or a King:\", probability_ace_or_king)\n"
      ]
    },
    {
      "cell_type": "markdown",
      "id": "53f852ad",
      "metadata": {
        "id": "53f852ad"
      },
      "source": [
        "# Exercise 4: Probability of Drawing a Red Card\n",
        "\n",
        "Write a Python program to simulate drawing a card from a standard deck of 52 cards. Calculate the probability of drawing a red card (Hearts or Diamonds)."
      ]
    },
    {
      "cell_type": "code",
      "execution_count": 9,
      "id": "5c65e42e",
      "metadata": {
        "colab": {
          "base_uri": "https://localhost:8080/"
        },
        "id": "5c65e42e",
        "outputId": "a34240b0-cfaa-442f-a8fe-b9ae60816e57"
      },
      "outputs": [
        {
          "output_type": "stream",
          "name": "stdout",
          "text": [
            "Probability of drawing a red card: 0.5\n"
          ]
        }
      ],
      "source": [
        "import random\n",
        "\n",
        "def red_card_probability():\n",
        "    deck = ['Ace', '2', '3', '4', '5', '6', '7', '8', '9', '10', 'Jack', 'Queen', 'King']\n",
        "    suits = ['Hearts', 'Diamonds', 'Clubs', 'Spades']\n",
        "\n",
        "    red_card_count = 0\n",
        "    total_cards = len(deck) * len(suits)\n",
        "\n",
        "    for suit in suits:\n",
        "        for card in deck:\n",
        "            if suit == 'Hearts' or suit == 'Diamonds':\n",
        "                red_card_count += 1\n",
        "\n",
        "    probability_red_card = red_card_count / total_cards\n",
        "\n",
        "    return probability_red_card\n",
        "\n",
        "probability_red_card = red_card_probability()\n",
        "print(\"Probability of drawing a red card:\", probability_red_card)\n"
      ]
    },
    {
      "cell_type": "markdown",
      "id": "3dff9e43",
      "metadata": {
        "id": "3dff9e43"
      },
      "source": [
        "# Generating Random Numbers From a Seed\n",
        "\n",
        "As with virtually all computer-generated random numbers, Python uses a pseudorandom number generator to come up with random numbers. In this process, Python begins with a \"random seed\" - usually coming from an internal clock, and repeatedly performs a \"complicated\" operation on it. In practice, this process is quite effective at simulating randomness, despite ultimately being deterministic.\n",
        "\n",
        "However, the deterministic aspect can actually be quite useful. If you find yourself running advanced simulations you may wish to be able to replicate your results, especially when bugfixing. To do so, we can actually specify the seed manually (or at least have the code keep track of what it was)."
      ]
    },
    {
      "cell_type": "code",
      "execution_count": 10,
      "id": "87595c9c",
      "metadata": {
        "scrolled": true,
        "colab": {
          "base_uri": "https://localhost:8080/"
        },
        "id": "87595c9c",
        "outputId": "86870470-1a4f-49f6-a112-704e06a51bc4"
      },
      "outputs": [
        {
          "output_type": "stream",
          "name": "stdout",
          "text": [
            "0.6365748044071234\n",
            "0.3624238633998189\n",
            "\n",
            "With a seed:\n",
            "0.6484972199788831\n",
            "0.7013695409686748\n",
            "With the same seed:\n",
            "0.6484972199788831\n",
            "0.7013695409686748\n",
            "\n",
            "Outputting the state of the generator:\n",
            "0.9570470026580679\n",
            "0.19640310908816028\n",
            "Now, resetting the random number generator to that previous state.\n",
            "0.9570470026580679\n",
            "0.19640310908816028\n"
          ]
        }
      ],
      "source": [
        "# Random number generation is quite unpredictable\n",
        "print(random.random())\n",
        "print(random.random())\n",
        "\n",
        "# Now let's use a seed\n",
        "print(\"\\nWith a seed:\")\n",
        "random.seed(27)\n",
        "print(random.random())\n",
        "print(random.random())\n",
        "print(\"With the same seed:\")\n",
        "random.seed(27)\n",
        "print(random.random())\n",
        "print(random.random())\n",
        "\n",
        "# Perhaps you don't want to come up with a seed yourself, but just to track the state of the random number generator.\n",
        "# One way to accomplish this is just to generate the seed randomly and save it as a variable.\n",
        "# Alternatively, you can copy the entire state of the random number generator. This is slightly inefficient, but\n",
        "# in practice, is often fine. The state of the random number generator can be somewhat complex, but it can be recorded\n",
        "# so that you can reset the generator to a previous condition if desired.\n",
        "print(\"\\nOutputting the state of the generator:\")\n",
        "state = random.getstate()\n",
        "print(random.random())\n",
        "print(random.random())\n",
        "print(\"Now, resetting the random number generator to that previous state.\")\n",
        "random.setstate(state)\n",
        "print(random.random())\n",
        "print(random.random())"
      ]
    },
    {
      "cell_type": "markdown",
      "id": "56cb0cdf",
      "metadata": {
        "id": "56cb0cdf"
      },
      "source": [
        "# Generating Random Numbers Drawn from a Particular Distribution\n",
        "\n",
        "It's very straightforward to generate a uniformly distributed random variable. But how can we generate variables from more complicated distributions? Fortunately, Python has built in libraries to do this without much effort."
      ]
    },
    {
      "cell_type": "code",
      "execution_count": 11,
      "id": "3344a7c8",
      "metadata": {
        "scrolled": true,
        "colab": {
          "base_uri": "https://localhost:8080/"
        },
        "id": "3344a7c8",
        "outputId": "189b6b54-2e04-4f53-cf22-a5a0e4c6a649"
      },
      "outputs": [
        {
          "output_type": "stream",
          "name": "stdout",
          "text": [
            "0.1403738958142805\n",
            "0.44049328506521257\n",
            "5.0\n",
            "5.0\n",
            "2.23606797749979\n",
            "6\n",
            "[10  6  5  4  3  4  8  4  4  7]\n"
          ]
        }
      ],
      "source": [
        "from scipy import stats\n",
        "\n",
        "# Binomial: stats.binom\n",
        "# Poisson: stats.poisson\n",
        "# Geometric: stats.geom\n",
        "# Normal: stats.norm  # Note that norm has parameters of the mean and *standard deviation*\n",
        "# Many others exist.\n",
        "X = stats.poisson(5)\n",
        "print(X.pmf(3))           # P(X = 3) # Use X.pdf to get the probability density if your distribution is continuous\n",
        "print(X.cdf(4))           # P(X <= 4)\n",
        "print(X.mean())           # E[X]\n",
        "print(X.var())            # Var(X)\n",
        "print(X.std())            # Std(X)\n",
        "print(X.rvs())            # Get a random sample from X\n",
        "print(X.rvs(10))          # Get 10 random samples form X"
      ]
    },
    {
      "cell_type": "markdown",
      "id": "d77f99f0",
      "metadata": {
        "id": "d77f99f0"
      },
      "source": [
        "Making judicious use of plots can help with visualizing your results as you come up with them."
      ]
    },
    {
      "cell_type": "code",
      "execution_count": 12,
      "id": "40717df8",
      "metadata": {
        "colab": {
          "base_uri": "https://localhost:8080/",
          "height": 449
        },
        "id": "40717df8",
        "outputId": "32f080dd-aa40-458f-fdcc-87b05e0939f8"
      },
      "outputs": [
        {
          "output_type": "display_data",
          "data": {
            "text/plain": [
              "<Figure size 640x480 with 1 Axes>"
            ],
            "image/png": "[encoded data removed]"
          },
          "metadata": {}
        }
      ],
      "source": [
        "import numpy as np\n",
        "import matplotlib.pyplot as plt\n",
        "\n",
        "Z = stats.poisson(5)\n",
        "\n",
        "xvals = range(20) # I'm choosing to cut it off here, since the chance of this RV being above 20 is vanishingly small.\n",
        "yvals = list(map(lambda x: Z.pmf(x), xvals))\n",
        "plt.plot(xvals, yvals, 'r+', label = \"True Distribution\")\n",
        "\n",
        "num_samples = 1000\n",
        "samples = Z.rvs(num_samples)\n",
        "counts = [np.count_nonzero(samples == i)/num_samples for i in range(20)]\n",
        "plt.bar(xvals, counts, label = \"Empirical Distribution\")\n",
        "\n",
        "plt.xlabel(\"output\")\n",
        "plt.ylabel(\"frequencies\")\n",
        "plt.legend()\n",
        "\n",
        "plt.show()"
      ]
    },
    {
      "cell_type": "markdown",
      "id": "498bf7cb",
      "metadata": {
        "id": "498bf7cb"
      },
      "source": [
        "# Exercise 5: Determine the Rate of Approach of Data to the True Distribution\n",
        "\n",
        "There are many ways to measure distance in the space of probability distributions. Here, we'll use a sup norm on the pmf.\n",
        "\n",
        "In this exercise, write code to sample repeatedly from a binomial random variable simulating n = 10 coin flips each with probability p = .4 of heads.\n",
        "\n",
        "For each of 10, 10^2, 10^3, 10^4, 10^5, and 10^6 [if not too slow] samples, determine the sup norm distance between the true pmf and the observed (empirical) distribution. (Calculate the absolute difference between pmf probabilities and the observed rates, then take a maximum over all possible values of your random variable for each number of samples.)\n",
        "\n",
        "Plot this sup norm distance against the number of samples, see if you can conjecture a rate of approach to 0. You may find a log-log plot useful.\n",
        "\n",
        "Does your result change if you instead use a sup norm on the cdf? What if you sample from a different distribution (careful if you choose a continuous distribution, you will then need to carefully choose the size of your bins)?"
      ]
    },
    {
      "cell_type": "code",
      "execution_count": 36,
      "id": "03757be7",
      "metadata": {
        "colab": {
          "base_uri": "https://localhost:8080/",
          "height": 472
        },
        "id": "03757be7",
        "outputId": "f1b33a45-fb41-4e3a-9dc8-d2c2d48aa2da"
      },
      "outputs": [
        {
          "output_type": "display_data",
          "data": {
            "text/plain": [
              "<Figure size 640x480 with 1 Axes>"
            ],
            "image/png": "[encoded data removed]"
          },
          "metadata": {}
        }
      ],
      "source": [
        "from mpl_toolkits.mplot3d.axes3d import defaultdict\n",
        "from collections import OrderedDict\n",
        "# TODO: Create your random variable, list all possible values that RV can take and compute the pmf at each value.\n",
        "X = stats.binom(10, .4)\n",
        "xvals = range(10)\n",
        "yvals = list(map(lambda x: Z.pmf(x), xvals))\n",
        "\n",
        "# TODO: Write this function\n",
        "def supremal_dist(array1, array2):\n",
        "    # Takes as arguments two numpy arrays of equal length.\n",
        "    # Calculates the absolute value of the difference between the values at each entry of each list, and\n",
        "    # returns the supremal such value.\n",
        "\n",
        "    absolute_difference = []\n",
        "\n",
        "    for i in range(len(array1)):\n",
        "        absolute_difference.append(abs(array1[i] - array2[i]))\n",
        "\n",
        "    return max(absolute_difference)\n",
        "\n",
        "\n",
        "num_samples = [10 ** i for i in range(1,7)]\n",
        "# TODO: For each entry in num_samples, generate that many samples from your distribution.\n",
        "#       Calculate the empirical pmf and determine the supremal distance to the true pmf.\n",
        "#       Save the result to dist_array\n",
        "\n",
        "dist_array = []\n",
        "\n",
        "for i in num_samples:\n",
        "  RV = X.rvs(i)\n",
        "  length = len(RV)\n",
        "  hashmap = defaultdict(int)\n",
        "  for j in RV:\n",
        "    if j in hashmap:\n",
        "      hashmap[j] += 1\n",
        "    else:\n",
        "      hashmap[j] = 1\n",
        "  for j in hashmap:\n",
        "      hashmap[j] = (hashmap.get(j) / length)\n",
        "\n",
        "  d = defaultdict(int)\n",
        "  for i in range(10):\n",
        "    if i in hashmap:\n",
        "      d[i] = hashmap[i]\n",
        "    else:\n",
        "      d[i] = 0\n",
        "  dist_array.append(supremal_dist(d,yvals))\n",
        "\n",
        "# Custom x-axis ticks\n",
        "custom_ticks = [10**i for i in range(1, 7)]  # [10, 10**2, 10**3, ..., 10**6]\n",
        "\n",
        "# Plotting the data as a line graph\n",
        "plt.title(\"sup norm distance\")\n",
        "plt.plot(dist_array, color=\"red\", marker='o', linestyle='-')\n",
        "plt.xlabel('sample size')  # Add an appropriate label for the x-axis\n",
        "plt.ylabel('sup norm distance')  # Add an appropriate label for the y-axis\n",
        "\n",
        "# Set custom x-axis ticks and labels\n",
        "plt.xticks(range(len(dist_array)), custom_ticks)\n",
        "\n",
        "plt.show()"
      ]
    },
    {
      "cell_type": "code",
      "source": [],
      "metadata": {
        "id": "5kZ-rQiep5HH"
      },
      "id": "5kZ-rQiep5HH",
      "execution_count": 13,
      "outputs": []
    },
    {
      "cell_type": "markdown",
      "id": "321e80b6",
      "metadata": {
        "id": "321e80b6"
      },
      "source": [
        "# Exercise 6: Monte Carlo Integration\n",
        "\n",
        "We sometimes find ourselves needing to compute definite integrals in very high dimensions. Doing this directly by doing some manner of Riemann sum is essentially intractable (how does the number of rectangles needed scale with dimension?).\n",
        "\n",
        "Monte Carlo Integration provides a way to estimate the area under a curve where the computational complexity scales roughly linearly with dimension.\n",
        "\n",
        "In \"naive\" Monte Carlo Integration, to estimate $\\int_\\Omega f(x) dx$, we (uniformly) randomly sample points $x_1, x_2, \\ldots, x_N \\in \\Omega$, estimating the average value of the function as $$\\frac{1}{N} \\sum_{i=1}^N f(x_i),$$ then multiply by the volume of $\\Omega$.\n",
        "\n",
        "Test how the error varies as the number of samples changes.\n",
        "\n",
        "-Answer: As sample size increases -> error decreases."
      ]
    },
    {
      "cell_type": "code",
      "execution_count": 42,
      "id": "a69bd7f1",
      "metadata": {
        "colab": {
          "base_uri": "https://localhost:8080/",
          "height": 484
        },
        "id": "a69bd7f1",
        "outputId": "4e8771dc-2191-4a39-cafc-f8013393859b"
      },
      "outputs": [
        {
          "output_type": "stream",
          "name": "stdout",
          "text": [
            "The (mostly) true value is: 2.121604209145586\n",
            "The computed area is: 2.122324948860453\n",
            "Error: 0.0007207397148674133\n"
          ]
        },
        {
          "output_type": "display_data",
          "data": {
            "text/plain": [
              "<Figure size 640x480 with 1 Axes>"
            ],
            "image/png": "[encoded data removed]"
          },
          "metadata": {}
        }
      ],
      "source": [
        "import math\n",
        "import numpy as np\n",
        "from scipy import integrate # In order to compare our integration against an accurate result.\n",
        "\n",
        "def func(x):\n",
        "    return math.cosh(x / 10)/(3 + math.sin(x))\n",
        "\n",
        "# Drawing a quick plot of this function\n",
        "xvals = np.arange(0,10,.1)\n",
        "yvals = list(map(func, xvals))\n",
        "plt.plot(xvals, yvals, 'r-')\n",
        "\n",
        "# Let's numerically integrate this function from x=.5 to x=6\n",
        "a = .5\n",
        "b = 6\n",
        "true_val = integrate.quad(func, a, b)\n",
        "# true_val is a tuple, the first entry is the estimated value, the second an error bound\n",
        "print(\"The (mostly) true value is: \" + str(true_val[0]))\n",
        "\n",
        "# Now we'll use a Monte Carlo method to estimate the result.\n",
        "# First, we sample from the desired domain.\n",
        "# We'll use \"naive\" Monte Carlo, so we'll sample uniformly.\n",
        "num_samples = 100000\n",
        "sample_x = np.random.uniform(a, b, num_samples)\n",
        "f_samples = list(map(func,sample_x))\n",
        "# Let's plot the computed points as well\n",
        "plt.plot(sample_x, f_samples, 'b.')\n",
        "\n",
        "domain_size = b - a\n",
        "average_val = sum(f_samples) / num_samples\n",
        "computed_area = domain_size * average_val\n",
        "print(\"The computed area is: \" + str(computed_area))\n",
        "\n",
        "print(\"Error: \" + str(abs(true_val[0]-computed_area)))\n",
        "plt.show()"
      ]
    },
    {
      "cell_type": "markdown",
      "id": "6b5b5633",
      "metadata": {
        "id": "6b5b5633"
      },
      "source": [
        "One can potentially improve the functioning of a Monte Carlo algorithm by sampling more cleverly than simply uniformly. By sampling regions where the function is changing more dramatically, we can quickly better estimate areas. If $x_1, x_2, \\ldots, x_N$ are independently sampled from $\\Omega$ by a probability distribution with pdf $p(x) > 0$, then the only change in the algorithm is that instead of multiplying by domain size, we need to weight our average computation by the pdf, computing $$\\frac{1}{N} \\sum_{i=1}^N \\frac{f(x_i)}{p(x_i)}.$$ The idea of this change is that regions where $p(x)$ is high are being sampled more often, so to equally weight all volume in the domain we need to divide out this extra contribution."
      ]
    },
    {
      "cell_type": "code",
      "execution_count": 15,
      "id": "092dcd2d",
      "metadata": {
        "colab": {
          "base_uri": "https://localhost:8080/",
          "height": 484
        },
        "id": "092dcd2d",
        "outputId": "97f68854-8ab5-4963-d21e-7c99b47020b3"
      },
      "outputs": [
        {
          "output_type": "stream",
          "name": "stdout",
          "text": [
            "The (mostly) true value is: 2.121604209145586\n",
            "The computed area is: 2.584852568432238\n",
            "Error: 0.4632483592866521\n"
          ]
        },
        {
          "output_type": "display_data",
          "data": {
            "text/plain": [
              "<Figure size 640x480 with 1 Axes>"
            ],
            "image/png": "[encoded data removed]"
          },
          "metadata": {}
        }
      ],
      "source": [
        "def func(x):\n",
        "    return math.cosh(x / 10)/(3 + math.sin(x))\n",
        "\n",
        "# Drawing a quick plot of this function\n",
        "xvals = np.arange(0,10,.1)\n",
        "yvals = list(map(func, xvals))\n",
        "plt.plot(xvals, yvals, 'r-')\n",
        "\n",
        "# Let's numerically integrate this function from x=.5 to x=6\n",
        "a = .5\n",
        "b = 6\n",
        "mu = 3\n",
        "stdev = 1\n",
        "true_val = integrate.quad(func, a, b)\n",
        "# true_val is a tuple, the first entry is the estimated value, the second an error bound\n",
        "print(\"The (mostly) true value is: \" + str(true_val[0]))\n",
        "\n",
        "# Now we'll use a Monte Carlo method to estimate the result.\n",
        "# First, we sample from the desired domain.\n",
        "# We'll use a truncated normal distribution\n",
        "num_samples = 10 ** 2\n",
        "X = stats.truncnorm((a - mu)/stdev, (b - mu)/stdev, loc = mu, scale = stdev)\n",
        "sample_x = X.rvs(num_samples)\n",
        "plt.plot(sample_x, list(map(func, sample_x)), 'b.')\n",
        "\n",
        "def weighted_func(x):\n",
        "    return (func(x) / X.pdf(x))\n",
        "computed_area = sum(map(weighted_func, sample_x)) / num_samples\n",
        "print(\"The computed area is: \" + str(computed_area))\n",
        "\n",
        "print(\"Error: \" + str(abs(true_val[0]-computed_area)))\n",
        "plt.show()\n",
        "# You'll likely notice in this case our sampling method actually made the error worse!\n",
        "# Picking a good sampling strategy is a tricky business."
      ]
    },
    {
      "cell_type": "markdown",
      "id": "aa28a556",
      "metadata": {
        "id": "aa28a556"
      },
      "source": [
        "The error in a such a Monte Carlo method tends to shrink like $\\frac{1}{N}$. What result discussed in the probability mini-course guarantees that in the limit as the number of samples tends to infinity, this computational method will converge to the right answer? This makes the randomness of this method an explicit *advantage* over deterministic strategies to estimate integrals.\n",
        "\n",
        "Implement below a naive Monte Carlo algorithm to estimate the area under the multivariate normal distribution specified below, on the domain $\\Omega = \\prod_{i=1}^{10} [0,5]$. You will need to compute the volume of the domain of integration, sample a large number of times from a uniform distribution on that domain, and compute the sum of the value of the curve above each sample divided by the number of samples.\n",
        "\n",
        "If desired, try to then modify your code to sample from a different distribution."
      ]
    },
    {
      "cell_type": "code",
      "execution_count": 16,
      "id": "68aa03ba",
      "metadata": {
        "id": "68aa03ba"
      },
      "outputs": [],
      "source": [
        "mu = np.array([6.46138308, 6.1972499 , 3.14017228, 5.82937277, 6.88411203,\n",
        "       3.59979289, 6.23181881, 2.38572917, 6.79960578, 3.47957668])\n",
        "Sigma = np.array([[322.50196885, 258.77581915, 261.32656945, 261.98896172,\n",
        "        271.33226807, 307.8553677 , 268.50204662, 249.16712592,\n",
        "        227.41808621, 195.97267951],\n",
        "       [258.77581915, 238.71439252, 218.09324661, 227.65161292,\n",
        "        237.85849962, 256.4286971 , 219.13817653, 202.08364907,\n",
        "        180.48179393, 179.40849401],\n",
        "       [261.32656945, 218.09324661, 264.17737452, 240.71494693,\n",
        "        236.61357469, 255.06390681, 227.0807996 , 214.5217545 ,\n",
        "        187.65882768, 162.99588906],\n",
        "       [261.98896172, 227.65161292, 240.71494693, 269.55813864,\n",
        "        273.09434749, 277.95866673, 198.21592515, 215.4079842 ,\n",
        "        198.91900544, 165.88508259],\n",
        "       [271.33226807, 237.85849962, 236.61357469, 273.09434749,\n",
        "        292.8651812 , 285.97783219, 214.88421115, 215.64053392,\n",
        "        219.74544557, 185.7494404 ],\n",
        "       [307.8553677 , 256.4286971 , 255.06390681, 277.95866673,\n",
        "        285.97783219, 341.89129643, 243.74205046, 252.96488908,\n",
        "        225.16820905, 197.55636485],\n",
        "       [268.50204662, 219.13817653, 227.0807996 , 198.21592515,\n",
        "        214.88421115, 243.74205046, 278.52121404, 197.62192092,\n",
        "        226.94437977, 188.6062736 ],\n",
        "       [249.16712592, 202.08364907, 214.5217545 , 215.4079842 ,\n",
        "        215.64053392, 252.96488908, 197.62192092, 206.33729121,\n",
        "        163.94189568, 148.10013139],\n",
        "       [227.41808621, 180.48179393, 187.65882768, 198.91900544,\n",
        "        219.74544557, 225.16820905, 226.94437977, 163.94189568,\n",
        "        237.99686149, 161.54161952],\n",
        "       [195.97267951, 179.40849401, 162.99588906, 165.88508259,\n",
        "        185.7494404 , 197.55636485, 188.6062736 , 148.10013139,\n",
        "        161.54161952, 160.76319109]])\n",
        "X = stats.multivariate_normal(mu, Sigma)\n",
        "# This is a 10-dimensional Gaussian. In practice, we may wish to approximate integrals in far more dimensions\n",
        "# than this, but this would already be fairly difficult by other means.\n",
        "\n"
      ]
    },
    {
      "cell_type": "markdown",
      "id": "8f1b6246",
      "metadata": {
        "id": "8f1b6246"
      },
      "source": [
        "# Exercise 7: The Metropolis-Hastings Algorithm\n",
        "\n",
        "One of the most important tasks for us to be able to accomplish when doing probabilistic work computationally is successfully drawing samples from a probability distribution. For common probability distributions, this is quite simple - Python already has implemented methods to sample from usual distributions. However, as you incorporate data into pre-existing probabilistic models, the probability distributions tend to take on a more complicated character. It is fairly common to run into distributions with probability density functions of the form $$p(x) = \\frac{f(x)}{N},$$ where $f \\geq 0$ is some complicated function and $N$ is a normalizing constant (equal to the integral of $f$ over the domain of consideration). It is tedious, computationally inefficient, and mathematically intractable to directly calculate this normalizing constant, and even upon doing so sampling from the distribution may be no easy task.\n",
        "\n",
        "Metropolis-Hastings is one of the simplest of a class of algorithms known as *Markov Chain Monte Carlo* methods. They are an extraordinarily flexible and useful collection of algorithms to accomplish this task. The main idea of the method is as follows:\n",
        "- Choose an initial sample point $x_0$. (This choice is essentially arbitrary, but choosing it well may speed up the algorithm.)\n",
        "- Choose a \"proposal distribution\" $Q(x | y)$. This distribution specifies the range of possibilities of our *next* sample $x$, given our *current* sample $y$. A simple choice is a Gaussian distribution centered at $y$, $$Q(x | y) = \\frac{1}{\\sqrt{2\\pi} \\sigma} e^{- \\frac{(x-y)^2}{2\\sigma^2}},$$ for some $\\sigma > 0$. (Other options can at times be superior.)\n",
        "- While more samples are desired, with current sample $x_n$:\n",
        " - Sample a new prospective point $x'$ from the distribution $Q(x' | x_n)$.\n",
        " - Determine the acceptance probability $$\\alpha(x', x_n) = \\min\\left(1, \\frac{f(x')}{f(x_n)} \\frac{Q(x_n | x')}{Q(x' | x_n)} \\right).$$ (Note that the \"$f$\" fraction cancels out the normalizing factor $N$, and that the \"$Q$\" fraction vanishes if your proposal distribution is symmetric - like the Gaussian.)\n",
        " - Generate a uniform random number $z \\in [0,1]$. If $z < \\alpha$, set $x_{n+1} = x'$. Otherwise, set $x_{n+1} = x_n$.\n",
        "\n",
        "The key claim of this algorithm is that as the number of samples increases to infinity, the frequency of occurence of values in the sequence $\\{ x_n \\}$ will approach the probability density.\n",
        "\n",
        "Implement this algorithm with a Gaussian proposal distribution to sample from the given one-dimensional distribution (we'll work with one-dimension for simplicity, though the algorithm works fine in higher dimensions). Generate a histogram and compare the shape of your histogram with the true shape of the distribution. How does the choice of $\\sigma$ affect your result? Can you determine where a good choice for an initial sample point is?\n",
        "\n",
        "The given non-normalized probability density is $$f(x) = e^{-x^4 + 2x^2}(2 + \\sin(3x)).$$"
      ]
    },
    {
      "cell_type": "code",
      "execution_count": 1,
      "id": "39d685a3",
      "metadata": {
        "colab": {
          "base_uri": "https://localhost:8080/",
          "height": 240
        },
        "id": "39d685a3",
        "outputId": "93f29912-3547-4823-d82d-6d0d94e9cf9d"
      },
      "outputs": [
        {
          "output_type": "error",
          "ename": "NameError",
          "evalue": "ignored",
          "traceback": [
            "\u001b[0;31m---------------------------------------------------------------------------\u001b[0m",
            "\u001b[0;31mNameError\u001b[0m                                 Traceback (most recent call last)",
            "\u001b[0;32m<ipython-input-1-9054f6b76991>\u001b[0m in \u001b[0;36m<cell line: 5>\u001b[0;34m()\u001b[0m\n\u001b[1;32m      3\u001b[0m \u001b[0;34m\u001b[0m\u001b[0m\n\u001b[1;32m      4\u001b[0m \u001b[0;31m# Drawing up a quick plot of this function, for your benefit.\u001b[0m\u001b[0;34m\u001b[0m\u001b[0;34m\u001b[0m\u001b[0m\n\u001b[0;32m----> 5\u001b[0;31m \u001b[0mxvals\u001b[0m \u001b[0;34m=\u001b[0m \u001b[0mnp\u001b[0m\u001b[0;34m.\u001b[0m\u001b[0marange\u001b[0m\u001b[0;34m(\u001b[0m\u001b[0;34m-\u001b[0m\u001b[0;36m5\u001b[0m\u001b[0;34m,\u001b[0m \u001b[0;36m5\u001b[0m\u001b[0;34m,\u001b[0m \u001b[0;36m.01\u001b[0m\u001b[0;34m)\u001b[0m\u001b[0;34m\u001b[0m\u001b[0;34m\u001b[0m\u001b[0m\n\u001b[0m\u001b[1;32m      6\u001b[0m \u001b[0myvals\u001b[0m \u001b[0;34m=\u001b[0m \u001b[0mlist\u001b[0m\u001b[0;34m(\u001b[0m\u001b[0mmap\u001b[0m\u001b[0;34m(\u001b[0m\u001b[0mf\u001b[0m\u001b[0;34m,\u001b[0m \u001b[0mxvals\u001b[0m\u001b[0;34m)\u001b[0m\u001b[0;34m)\u001b[0m\u001b[0;34m\u001b[0m\u001b[0;34m\u001b[0m\u001b[0m\n\u001b[1;32m      7\u001b[0m \u001b[0mplt\u001b[0m\u001b[0;34m.\u001b[0m\u001b[0mplot\u001b[0m\u001b[0;34m(\u001b[0m\u001b[0mxvals\u001b[0m\u001b[0;34m,\u001b[0m \u001b[0myvals\u001b[0m\u001b[0;34m,\u001b[0m \u001b[0;34m'b-'\u001b[0m\u001b[0;34m,\u001b[0m \u001b[0mlabel\u001b[0m \u001b[0;34m=\u001b[0m \u001b[0;34m\"f(x)\"\u001b[0m\u001b[0;34m)\u001b[0m\u001b[0;34m\u001b[0m\u001b[0;34m\u001b[0m\u001b[0m\n",
            "\u001b[0;31mNameError\u001b[0m: name 'np' is not defined"
          ]
        }
      ],
      "source": [
        "def f(x):\n",
        "    return math.exp(- x ** 4 + 2 * x ** 2) * (2 + math.sin(3*x))\n",
        "\n",
        "# Drawing up a quick plot of this function, for your benefit.\n",
        "xvals = np.arange(-5, 5, .01)\n",
        "yvals = list(map(f, xvals))\n",
        "plt.plot(xvals, yvals, 'b-', label = \"f(x)\")\n",
        "plt.xlabel('x')\n",
        "plt.ylabel('y')\n",
        "plt.legend()\n",
        "\n",
        "\n",
        "def metropolis_hastings(x0, sigma, density, num_samples):\n",
        "    # x0 is a real value representing the location of the initial sample\n",
        "    # sigma is a positive real value representing the stdev of the proposal distribution\n",
        "        # If you wish to implement the algorithm with a non-gaussian proposal distribution, you will\n",
        "        # need to replace this input with an input describing your proposal distribution.\n",
        "    # density is a function taking a real number as input and outputting a real number,\n",
        "        # representing the non-normalized probability density of the target distribution.\n",
        "    # num_samples is an integer stating the number of samples you would like to obtain before halting the algorithm\n",
        "    # It is common to add a further variable, a \"burn-in\", which is an integer, representing the number of early samples\n",
        "        # that should be thrown away before starting to actually record data. Especially if a very good initial guess is\n",
        "        # not known, this is a good practice. It isn't strictly necessary here, though.\n",
        "    # This function should output a numpy array of real values, representing the samples drawn\n",
        "        # from the desired distribution.\n",
        "    # 𝑓(𝑥′)𝑓(𝑥𝑛)𝑄(𝑥𝑛|𝑥′)𝑄(𝑥′|𝑥𝑛)\n",
        "    #TODO: Implement Metropolis-Hastings\n",
        "    X1 = x0\n",
        "    A = min(1, f(X1)/f(x0))\n",
        "    return A\n",
        "\n",
        "#TODO: Run your implemented algorithm\n",
        "sigma = 0.2\n",
        "x0 = 0\n",
        "num_samples = 1000\n",
        "\n",
        "samples = metropolis_hastings(x0, sigma, f, num_samples)\n",
        "\n",
        "#TODO: Generate a histogram of your samples - see how closely you can match the desired density.\n",
        "counts, bins = np.histogram(samples, bins = 100, range = (-3,3))\n",
        "# The next line will normalize your counts to fit fairly nicely onto the plot below.\n",
        "counts = counts * 6.4/max(counts)\n",
        "plt.bar(bins[0:-1], counts, width = 6/100, label = \"Observed Data\")\n",
        "\n",
        "\n",
        "plt.show()"
      ]
    },
    {
      "cell_type": "code",
      "execution_count": 17,
      "id": "3ea234c9",
      "metadata": {
        "id": "3ea234c9"
      },
      "outputs": [],
      "source": []
    }
  ],
  "metadata": {
    "kernelspec": {
      "display_name": "Python 3",
      "language": "python",
      "name": "python3"
    },
    "language_info": {
      "codemirror_mode": {
        "name": "ipython",
        "version": 3
      },
      "file_extension": ".py",
      "mimetype": "text/x-python",
      "name": "python",
      "nbconvert_exporter": "python",
      "pygments_lexer": "ipython3",
      "version": "3.7.9"
    },
    "colab": {
      "provenance": []
    }
  },
  "nbformat": 4,
  "nbformat_minor": 5
}